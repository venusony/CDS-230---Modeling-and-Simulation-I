{
 "cells": [
  {
   "cell_type": "code",
   "execution_count": 6,
   "id": "0d8741fa-148a-4146-a320-36245560175d",
   "metadata": {},
   "outputs": [
    {
     "name": "stdout",
     "output_type": "stream",
     "text": [
      "**********."
     ]
    }
   ],
   "source": [
    "\n",
    "num_of_character = 10\n",
    "character_to_print = \"*\"\n",
    "\n",
    "# Loop\n",
    "for i in range(num_of_character):\n",
    "    print(character_to_print, end=\"\")\n",
    "print(end=\".\")\n"
   ]
  },
  {
   "cell_type": "code",
   "execution_count": null,
   "id": "ce83bdaa-d7e9-417d-bf2d-c4b2917af9d0",
   "metadata": {},
   "outputs": [],
   "source": []
  },
  {
   "cell_type": "code",
   "execution_count": null,
   "id": "1c1afa03-1752-4321-ac6e-6c4271c05201",
   "metadata": {},
   "outputs": [],
   "source": []
  }
 ],
 "metadata": {
  "kernelspec": {
   "display_name": "Python 3 (ipykernel)",
   "language": "python",
   "name": "python3"
  },
  "language_info": {
   "codemirror_mode": {
    "name": "ipython",
    "version": 3
   },
   "file_extension": ".py",
   "mimetype": "text/x-python",
   "name": "python",
   "nbconvert_exporter": "python",
   "pygments_lexer": "ipython3",
   "version": "3.12.4"
  }
 },
 "nbformat": 4,
 "nbformat_minor": 5
}
