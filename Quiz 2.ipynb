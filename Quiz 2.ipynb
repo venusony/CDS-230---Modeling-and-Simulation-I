{
 "cells": [
  {
   "cell_type": "code",
   "execution_count": 1,
   "id": "951cd0d0-5da4-4cb9-94d6-cbaff84e0b9a",
   "metadata": {},
   "outputs": [],
   "source": [
    "import math"
   ]
  },
  {
   "cell_type": "code",
   "execution_count": 3,
   "id": "117aaaab-1fd3-425a-9731-f064005f0714",
   "metadata": {},
   "outputs": [
    {
     "name": "stdout",
     "output_type": "stream",
     "text": [
      "81\n"
     ]
    }
   ],
   "source": [
    "def sum_all(values): \n",
    "\n",
    "    total = 0 \n",
    "\n",
    "    for value in values: \n",
    "\n",
    "        total += value \n",
    "\n",
    "    return total \n",
    "\n",
    " \n",
    "\n",
    "values = [4, 10, 11, 56] \n",
    "\n",
    "print(sum_all(values)) \n",
    "\n",
    " "
   ]
  },
  {
   "cell_type": "code",
   "execution_count": null,
   "id": "6cd0eddf-da71-4bb9-a629-1a2a0db9ced9",
   "metadata": {},
   "outputs": [],
   "source": []
  }
 ],
 "metadata": {
  "kernelspec": {
   "display_name": "Python 3 (ipykernel)",
   "language": "python",
   "name": "python3"
  },
  "language_info": {
   "codemirror_mode": {
    "name": "ipython",
    "version": 3
   },
   "file_extension": ".py",
   "mimetype": "text/x-python",
   "name": "python",
   "nbconvert_exporter": "python",
   "pygments_lexer": "ipython3",
   "version": "3.12.4"
  }
 },
 "nbformat": 4,
 "nbformat_minor": 5
}
