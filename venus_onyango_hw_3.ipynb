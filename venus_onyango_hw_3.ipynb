{
 "cells": [
  {
   "cell_type": "markdown",
   "metadata": {},
   "source": [
    "# Homework (3)"
   ]
  },
  {
   "cell_type": "markdown",
   "metadata": {},
   "source": [
    "- Student name: Venus Onyango\n",
    "- Email: vonyango@gmu.edu\n",
    "- G-number: G01424357"
   ]
  },
  {
   "cell_type": "markdown",
   "metadata": {},
   "source": [
    "## Imported packages"
   ]
  },
  {
   "cell_type": "code",
   "execution_count": 41,
   "metadata": {},
   "outputs": [],
   "source": [
    "import math"
   ]
  },
  {
   "cell_type": "markdown",
   "metadata": {},
   "source": [
    "## Question 1"
   ]
  },
  {
   "cell_type": "code",
   "execution_count": 42,
   "metadata": {},
   "outputs": [
    {
     "name": "stdin",
     "output_type": "stream",
     "text": [
      "Enter x-coordinate of Point 1:  7\n",
      "Enter y-coordinate of Point 1:  4\n",
      "Enter x-coordinate of Point 2:  5\n",
      "Enter y-coordinate of Point 2:  6\n"
     ]
    },
    {
     "name": "stdout",
     "output_type": "stream",
     "text": [
      "Point 1 is farther\n"
     ]
    }
   ],
   "source": [
    "# Define a function\n",
    "def calculate_distance(x, y):\n",
    "    # This function calculates the Euclidean distance\n",
    "    return math.sqrt(x**2 + y**2)\n",
    "point1_x = float(input(\"Enter x-coordinate of Point 1: \"))  \n",
    "point1_y = float(input(\"Enter y-coordinate of Point 1: \"))\n",
    "point2_x = float(input(\"Enter x-coordinate of Point 2: \"))\n",
    "point2_y = float(input(\"Enter y-coordinate of Point 2: \"))\n",
    "# Function Call\n",
    "distance_point1 = calculate_distance(point1_x, point1_y)  \n",
    "distance_point2 = calculate_distance(point2_x, point2_y)\n",
    "\n",
    "# Comparing using the if-else statements\n",
    "if distance_point1 > distance_point2:\n",
    "    print(\"Point 1 is farther\")\n",
    "elif distance_point2 > distance_point1:\n",
    "    print(\"Point 2 is farther\")\n",
    "else:\n",
    "    print(\"Both points are equally far from the center\")\n",
    "    \n"
   ]
  },
  {
   "cell_type": "markdown",
   "metadata": {},
   "source": [
    "### Question 2"
   ]
  },
  {
   "cell_type": "code",
   "execution_count": 43,
   "metadata": {},
   "outputs": [
    {
     "name": "stdin",
     "output_type": "stream",
     "text": [
      "Enter a number:  23454567\n"
     ]
    },
    {
     "name": "stdout",
     "output_type": "stream",
     "text": [
      "23,454,567\n"
     ]
    }
   ],
   "source": [
    "num = input(\"Enter a number: \")\n",
    "reversed_str = num[::-1]\n",
    "result = []\n",
    "for i in range(len(reversed_str)):\n",
    "    result.append(reversed_str[i])\n",
    "    if (i + 1) % 3 == 0 and (i + 1) != len(reversed_str):\n",
    "        result.append(\",\")\n",
    "result.reverse()\n",
    "final_result = ''.join(result)\n",
    "print(final_result)\n",
    "\n"
   ]
  },
  {
   "cell_type": "markdown",
   "metadata": {},
   "source": [
    "### Question 3"
   ]
  },
  {
   "cell_type": "code",
   "execution_count": 44,
   "metadata": {},
   "outputs": [
    {
     "name": "stdout",
     "output_type": "stream",
     "text": [
      "8\n"
     ]
    }
   ],
   "source": [
    "gene = \"CTGTTCTTGCTACAGGCAATCAACGTTGATGTTGTGGTAGACGATTAGGAATCCCCAACGAGTTGGGACGGAGTTTATATATGGGTAGAGCTCCCTCGCATTCCTTTCTAG\"\n",
    "count_TG = 0 \n",
    "\n",
    "for i in range(len(gene) - 1): \n",
    "    if gene[i:i+2] == 'TG': \n",
    "        count_TG += 1\n",
    "\n",
    "print(count_TG)\n"
   ]
  },
  {
   "cell_type": "markdown",
   "metadata": {},
   "source": [
    "---"
   ]
  },
  {
   "cell_type": "markdown",
   "metadata": {},
   "source": [
    "## Question 4"
   ]
  },
  {
   "cell_type": "code",
   "execution_count": 45,
   "metadata": {},
   "outputs": [
    {
     "name": "stdin",
     "output_type": "stream",
     "text": [
      "Enter value:  34\n"
     ]
    },
    {
     "name": "stdout",
     "output_type": "stream",
     "text": [
      "34\n",
      "No, not divisible by 5\n"
     ]
    }
   ],
   "source": [
    "# Part a: \n",
    "value = input(\"Enter value: \")\n",
    "print(value)\n",
    "\n",
    "# Part b: \n",
    "number = int(value)\n",
    "\n",
    "if number % 5 == 0:\n",
    "    print(\"Yes, this is divisible by 5\")\n",
    "else:\n",
    "    print(\"No, not divisible by 5\")\n",
    "\n",
    "        \n"
   ]
  },
  {
   "cell_type": "markdown",
   "metadata": {},
   "source": [
    "## Question 5"
   ]
  },
  {
   "cell_type": "code",
   "execution_count": 46,
   "metadata": {},
   "outputs": [
    {
     "name": "stdin",
     "output_type": "stream",
     "text": [
      "Enter the first integer number:  5\n",
      "Enter the second integer number:  6\n",
      "Enter one of the following operations - + / *:  *\n"
     ]
    },
    {
     "name": "stdout",
     "output_type": "stream",
     "text": [
      "The result is: 30\n"
     ]
    }
   ],
   "source": [
    "num1 = int(input(\"Enter the first integer number: \"))\n",
    "num2 = int(input(\"Enter the second integer number: \"))\n",
    "operation = input(\"Enter one of the following operations - + / *: \")\n",
    "\n",
    "if operation == '+':\n",
    "    result = num1 + num2\n",
    "elif operation == '-':\n",
    "    result = num1 - num2\n",
    "elif operation == '*':\n",
    "    result = num1 * num2\n",
    "elif operation == '/':\n",
    "\n",
    "    if num2 != 0:\n",
    "        result = num1 / num2\n",
    "    else:\n",
    "        result = \"Cannot divide by zero\"\n",
    "else:\n",
    "    result = \"Invalid operation\"\n",
    "\n",
    "print(\"The result is:\", result)\n"
   ]
  },
  {
   "cell_type": "markdown",
   "metadata": {},
   "source": [
    "## Question 6"
   ]
  },
  {
   "cell_type": "code",
   "execution_count": 47,
   "metadata": {},
   "outputs": [
    {
     "name": "stdin",
     "output_type": "stream",
     "text": [
      "Enter the first string:  frds\n",
      "Enter the second string:  frds\n"
     ]
    },
    {
     "name": "stdout",
     "output_type": "stream",
     "text": [
      "Yes, two strings have the same number of characters\n"
     ]
    }
   ],
   "source": [
    "\n",
    "string1 = input(\"Enter the first string: \")\n",
    "string2 = input(\"Enter the second string: \")\n",
    "if len(string1) == len(string2): \n",
    "    print(\"Yes, two strings have the same number of characters\")\n",
    "else:\n",
    "    print(\"No, two strings do NOT have the same number of characters\")\n"
   ]
  },
  {
   "cell_type": "markdown",
   "metadata": {},
   "source": [
    "## Question 7"
   ]
  },
  {
   "cell_type": "code",
   "execution_count": 48,
   "metadata": {},
   "outputs": [
    {
     "name": "stdin",
     "output_type": "stream",
     "text": [
      "Please enter your name:  venys\n"
     ]
    },
    {
     "name": "stdout",
     "output_type": "stream",
     "text": [
      "Your email address is: venys@gmu.edu\n"
     ]
    }
   ],
   "source": [
    "email_name = input(\"Please enter your name: \")\n",
    "email = email_name + \"@gmu.edu\"\n",
    "print(\"Your email address is:\", email)\n",
    "\n",
    "    \n"
   ]
  },
  {
   "cell_type": "code",
   "execution_count": null,
   "metadata": {},
   "outputs": [],
   "source": []
  },
  {
   "cell_type": "code",
   "execution_count": null,
   "metadata": {},
   "outputs": [],
   "source": []
  }
 ],
 "metadata": {
  "kernelspec": {
   "display_name": "Python 3 (ipykernel)",
   "language": "python",
   "name": "python3"
  },
  "language_info": {
   "codemirror_mode": {
    "name": "ipython",
    "version": 3
   },
   "file_extension": ".py",
   "mimetype": "text/x-python",
   "name": "python",
   "nbconvert_exporter": "python",
   "pygments_lexer": "ipython3",
   "version": "3.12.4"
  }
 },
 "nbformat": 4,
 "nbformat_minor": 4
}
