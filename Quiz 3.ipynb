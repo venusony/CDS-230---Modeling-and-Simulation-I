{
 "cells": [
  {
   "cell_type": "code",
   "execution_count": 1,
   "id": "a722013b-fc92-4bb0-8220-dc8084e4f4b1",
   "metadata": {},
   "outputs": [],
   "source": [
    "import numpy as np"
   ]
  },
  {
   "cell_type": "code",
   "execution_count": 3,
   "id": "4275e56d-0a14-4aec-874e-c71ea5b1e916",
   "metadata": {},
   "outputs": [],
   "source": [
    "def roll_two_dice():\n",
    "    die_1 = np.random.randint(1, 7) \n",
    "    die_2 = np.random.randint(1, 7)\n",
    "    count_sum_2 = 0\n",
    "count_sum_7 = 0\n",
    "\n",
    "num_trials = 100000\n",
    "\n",
    "for _ in range(num_trials):\n",
    "    roll_sum = roll_two_dice()\n",
    "    if roll_sum == 2:\n",
    "        count_sum_2 += 1"
   ]
  },
  {
   "cell_type": "code",
   "execution_count": null,
   "id": "59832640-921e-4dcb-9d18-0f21d42cf096",
   "metadata": {},
   "outputs": [],
   "source": []
  }
 ],
 "metadata": {
  "kernelspec": {
   "display_name": "Python 3 (ipykernel)",
   "language": "python",
   "name": "python3"
  },
  "language_info": {
   "codemirror_mode": {
    "name": "ipython",
    "version": 3
   },
   "file_extension": ".py",
   "mimetype": "text/x-python",
   "name": "python",
   "nbconvert_exporter": "python",
   "pygments_lexer": "ipython3",
   "version": "3.12.4"
  }
 },
 "nbformat": 4,
 "nbformat_minor": 5
}
