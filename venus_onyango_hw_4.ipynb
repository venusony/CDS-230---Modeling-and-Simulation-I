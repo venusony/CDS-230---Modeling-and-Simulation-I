{
 "cells": [
  {
   "cell_type": "markdown",
   "metadata": {},
   "source": [
    "# Homework 4"
   ]
  },
  {
   "cell_type": "markdown",
   "metadata": {},
   "source": [
    "- Student name: Venus Onyango\r",
    "- Email: vonyango@gmu.edu\n",
    "- \r\n",
    "G-number: G01424357"
   ]
  },
  {
   "cell_type": "markdown",
   "metadata": {},
   "source": [
    "## Imported packages"
   ]
  },
  {
   "cell_type": "code",
   "execution_count": 11,
   "metadata": {},
   "outputs": [],
   "source": [
    "import math"
   ]
  },
  {
   "cell_type": "markdown",
   "metadata": {},
   "source": [
    "## Question 1"
   ]
  },
  {
   "cell_type": "code",
   "execution_count": 4,
   "metadata": {},
   "outputs": [
    {
     "name": "stdout",
     "output_type": "stream",
     "text": [
      "**********\n",
      "*********\n",
      "********\n",
      "*******\n",
      "******\n",
      "*****\n",
      "****\n",
      "***\n",
      "**\n",
      "*\n"
     ]
    }
   ],
   "source": [
    "num_of_character = 10\n",
    "character_to_print = \"*\"\n",
    "\n",
    "for i in range(num_of_character, 0, -1):\n",
    "    print(character_to_print * i)\n"
   ]
  },
  {
   "cell_type": "markdown",
   "metadata": {},
   "source": [
    "### Question 2"
   ]
  },
  {
   "cell_type": "code",
   "execution_count": 8,
   "metadata": {},
   "outputs": [
    {
     "name": "stdout",
     "output_type": "stream",
     "text": [
      "[77.0, 77.2, 77.02000000000001, 76.22200000000001, 76.0442, 76.44862, 76.993482, 75.8928302, 75.68211322, 75.050324542, 76.3553569962, 76.29089269582, 76.199981965402, 76.1179801619422, 76.10757817813642]\n"
     ]
    }
   ],
   "source": [
    "temperatures = [80, 87, 86, 92, 78, 78, 83, 81, 68, 85, 93, 94, 75, 79, 85, 78, 72, 71, 88, 78, 82, 62]\n",
    "predicted_temperatures = []\n",
    "\n",
    "for i in range(15):\n",
    "    last_10_days = temperatures[-10:]\n",
    "    avg_temp = sum(last_10_days) / len(last_10_days)\n",
    "    predicted_temperatures.append(avg_temp)\n",
    "    temperatures.append(avg_temp)\n",
    "\n",
    "print(predicted_temperatures)\n",
    "\n"
   ]
  },
  {
   "cell_type": "markdown",
   "metadata": {},
   "source": [
    "### Question 3"
   ]
  },
  {
   "cell_type": "code",
   "execution_count": 10,
   "metadata": {},
   "outputs": [
    {
     "name": "stdout",
     "output_type": "stream",
     "text": [
      "[0.7999999999999972, -7.6200000000000045, -7.040000000000006, 2.5400000000000063, -2.8799999999999955, -12.299999999999997, -10.719999999999999, 7.859999999999999, 11.439999999999998, 8.019999999999996, 8.599999999999994, 8.180000000000007, 7.760000000000005, 7.340000000000003, 5.920000000000002]\n"
     ]
    }
   ],
   "source": [
    "predicted_temperatures = [81.8, 81.38, 80.96, 80.54, 80.12, 79.7, 79.28, 78.86, 78.44, 78.02, 77.6, 77.18, 76.76, 76.34, 75.92]  \n",
    "real_temperatures = [81, 89, 88, 78, 83, 92, 90, 71, 67, 70, 69, 69, 69, 69, 70]\n",
    "\n",
    "temperature_differences = []\n",
    "\n",
    "for i in range(len(real_temperatures)):\n",
    "    difference = predicted_temperatures[i] - real_temperatures[i]\n",
    "    temperature_differences.append(difference)\n",
    "\n",
    "print(temperature_differences)\n",
    "\n"
   ]
  },
  {
   "cell_type": "markdown",
   "metadata": {},
   "source": [
    "---"
   ]
  },
  {
   "cell_type": "markdown",
   "metadata": {},
   "source": [
    "## Question 4"
   ]
  },
  {
   "cell_type": "code",
   "execution_count": 12,
   "metadata": {},
   "outputs": [
    {
     "name": "stdout",
     "output_type": "stream",
     "text": [
      "The distance is 59.07944569982845 kilometers.\n"
     ]
    }
   ],
   "source": [
    "def haversine(loc_1, loc_2):\n",
    "    r = 6371\n",
    "    lat1, lon1 = math.radians(loc_1[0]), math.radians(loc_1[1])\n",
    "    lat2, lon2 = math.radians(loc_2[0]), math.radians(loc_2[1])\n",
    "    dlat = lat2 - lat1\n",
    "    dlon = lon2 - lon1\n",
    "    a = math.sin(dlat / 2)**2 + math.cos(lat1) * math.cos(lat2) * math.sin(dlon / 2)**2\n",
    "    c = 2 * math.asin(math.sqrt(a))\n",
    "    distance = r * c\n",
    "    return distance\n",
    "\n",
    "loc_1 = (38.778981, -77.083358)\n",
    "loc_2 = (38.288876, -77.345637)\n",
    "distance = haversine(loc_1, loc_2)\n",
    "\n",
    "print(\"The distance is\", distance, \"kilometers.\")\n"
   ]
  },
  {
   "cell_type": "markdown",
   "metadata": {},
   "source": [
    "## Question 5"
   ]
  },
  {
   "cell_type": "code",
   "execution_count": 13,
   "metadata": {},
   "outputs": [
    {
     "name": "stdout",
     "output_type": "stream",
     "text": [
      "The center of mass is 38.84749363319875 -77.26750281892856\n"
     ]
    }
   ],
   "source": [
    "trajectory = []\n",
    "trajectory.append((38.85331685786827, -77.29046729646763))\n",
    "trajectory.append((38.85866393991506, -77.27192786775669))\n",
    "trajectory.append((38.857594555667404, -77.26094153963169))\n",
    "trajectory.append((38.84957366123777, -77.25270179353794))\n",
    "trajectory.append((38.84422589578141, -77.2396555288895))\n",
    "trajectory.append((38.838877728341515, -77.24995521150669))\n",
    "trajectory.append((38.838877728341515, -77.26231483064731))\n",
    "trajectory.append((38.838877728341515, -77.28978065095981))\n",
    "trajectory.append((38.84743460329428, -77.28978065095981))\n",
    "\n",
    "lat_sum = 0\n",
    "lon_sum = 0\n",
    "n = len(trajectory)\n",
    "\n",
    "for coord in trajectory:\n",
    "    lat_sum = lat_sum + coord[0]\n",
    "    lon_sum = lon_sum + coord[1]\n",
    "\n",
    "center_lat = lat_sum / n\n",
    "center_lon = lon_sum / n\n",
    "\n",
    "print(\"The center of mass is\", center_lat, center_lon)\n"
   ]
  },
  {
   "cell_type": "code",
   "execution_count": null,
   "metadata": {},
   "outputs": [],
   "source": []
  }
 ],
 "metadata": {
  "kernelspec": {
   "display_name": "Python 3 (ipykernel)",
   "language": "python",
   "name": "python3"
  },
  "language_info": {
   "codemirror_mode": {
    "name": "ipython",
    "version": 3
   },
   "file_extension": ".py",
   "mimetype": "text/x-python",
   "name": "python",
   "nbconvert_exporter": "python",
   "pygments_lexer": "ipython3",
   "version": "3.12.4"
  }
 },
 "nbformat": 4,
 "nbformat_minor": 4
}
