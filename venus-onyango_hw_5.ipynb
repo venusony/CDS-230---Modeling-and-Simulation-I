{
 "cells": [
  {
   "cell_type": "markdown",
   "id": "61f5c8f9-5fde-42aa-8b04-011c17dff041",
   "metadata": {},
   "source": [
    "## Homework 5"
   ]
  },
  {
   "cell_type": "markdown",
   "id": "72e04244-f89a-4cda-be66-9af05f8fe624",
   "metadata": {},
   "source": [
    "- Student name: Venus Onyango\n",
    "- Email: vonyango@gmu.edu\n",
    "- G-number: G01424357"
   ]
  },
  {
   "cell_type": "markdown",
   "id": "a260430e-5d2e-4e57-b087-d225f7f15983",
   "metadata": {},
   "source": [
    "## Imports"
   ]
  },
  {
   "cell_type": "code",
   "execution_count": 9,
   "id": "d895797e-a852-4455-ad9a-58f379df1346",
   "metadata": {},
   "outputs": [],
   "source": [
    "import math\n",
    "import numpy as np"
   ]
  },
  {
   "cell_type": "markdown",
   "id": "469feca9-f8f6-4f14-852a-1af67b85d1c8",
   "metadata": {},
   "source": [
    "## Question 1"
   ]
  },
  {
   "cell_type": "code",
   "execution_count": 28,
   "id": "44dad58d-c541-45dd-b15e-ff49e7cf2b18",
   "metadata": {},
   "outputs": [
    {
     "data": {
      "text/plain": [
       "1.0910894511799618"
      ]
     },
     "execution_count": 28,
     "metadata": {},
     "output_type": "execute_result"
    }
   ],
   "source": [
    "def rel(t, v, c):\n",
    "    return t * (1 / math.sqrt(1 - (v ** 2) / (c ** 2)))\n",
    "\n",
    "rel(1, 2, 5)\n"
   ]
  },
  {
   "cell_type": "markdown",
   "id": "668e317a-b251-4584-858b-9a73f7fa354d",
   "metadata": {},
   "source": [
    "## Question 2"
   ]
  },
  {
   "cell_type": "code",
   "execution_count": 23,
   "id": "33ac6dad-2288-47fb-b006-8b031c0aee5a",
   "metadata": {},
   "outputs": [
    {
     "name": "stdout",
     "output_type": "stream",
     "text": [
      "The average of the generated numbers is: 0.218\n",
      "The result can change because of randomness, but it should be near zero after many tries.\n"
     ]
    }
   ],
   "source": [
    "def calculate_average(numbers):\n",
    "    return sum(numbers) / len(numbers)\n",
    "\n",
    "random_numbers = np.random.randint(-10, 11, 1000)\n",
    "average = calculate_average(random_numbers)\n",
    "print(\"The average of the generated numbers is:\", average)\n",
    "\n",
    "# Explanation \n",
    "if average == 0:\n",
    "    print(\"The result makes sense because the range -10 to 10 is balanced around zero.\")\n",
    "else:\n",
    "    print(\"The result can change because of randomness, but it should be near zero after many tries.\")\n"
   ]
  },
  {
   "cell_type": "markdown",
   "id": "c8e43283-f510-4d0e-bdb6-0a1b45f24226",
   "metadata": {},
   "source": [
    "## Question 3"
   ]
  },
  {
   "cell_type": "code",
   "execution_count": 26,
   "id": "c3020d0c-2d64-4b36-9d42-20e6a24d4e9a",
   "metadata": {},
   "outputs": [
    {
     "name": "stdout",
     "output_type": "stream",
     "text": [
      "1 appears 3 times.\n",
      "3 appears 2 times.\n",
      "4 appears 1 times.\n",
      "5 appears 1 times.\n",
      "6 appears 1 times.\n",
      "7 appears 6 times.\n",
      "9 appears 5 times.\n",
      "11 appears 8 times.\n",
      "16 appears 1 times.\n",
      "18 appears 1 times.\n",
      "19 appears 1 times.\n",
      "21 appears 1 times.\n",
      "24 appears 1 times.\n",
      "29 appears 1 times.\n",
      "30 appears 1 times.\n",
      "33 appears 3 times.\n",
      "35 appears 2 times.\n",
      "38 appears 1 times.\n",
      "40 appears 1 times.\n",
      "41 appears 1 times.\n"
     ]
    }
   ],
   "source": [
    "numbers = [41, 33, 11, 9, 7, 11, 21, 19, 7, 11, 6, 9, 30, 24, 1, 5, 7, 4, 35, 3, 35, 1, 18, 38, 11, 9, 11, 7, 9, 33, 11, 3, 40, 16, 11, 1, 33, 7, 29, 9, 7, 11]\n",
    "\n",
    "unique_values = set(numbers)\n",
    "for num in unique_values:\n",
    "    print(num, \"appears\", numbers.count(num), \"times.\")\n"
   ]
  },
  {
   "cell_type": "markdown",
   "id": "571b3f36-9d27-4107-bf0d-fb19b04e259f",
   "metadata": {},
   "source": [
    "## Question 4"
   ]
  },
  {
   "cell_type": "code",
   "execution_count": 37,
   "id": "cd802a94-f743-4ede-b3da-60c5654cbf66",
   "metadata": {},
   "outputs": [
    {
     "name": "stdout",
     "output_type": "stream",
     "text": [
      "-1 10 4.0\n",
      "-10 10 0.0\n",
      "4 4 4.0\n",
      "1 13 4.714285714285714\n"
     ]
    }
   ],
   "source": [
    "def list_stats(numbers):\n",
    "    return min(numbers), max(numbers), sum(numbers) / len(numbers)\n",
    "\n",
    "test_lists = [\n",
    "    [2, -1, 10, 5],\n",
    "    [10, 8, 6, 4, 2, 0, -2, -4, -6, -8, -10],\n",
    "    [4],\n",
    "    [1, 1, 2, 3, 5, 8, 13]\n",
    "]\n",
    "\n",
    "for numbers in test_lists:\n",
    "    minimum, maximum, average = list_stats(numbers)\n",
    "    print(minimum, maximum, average)\n"
   ]
  },
  {
   "cell_type": "markdown",
   "id": "44558617-a2b6-46ef-be59-9d43246b1439",
   "metadata": {},
   "source": [
    "## Question 5"
   ]
  },
  {
   "cell_type": "code",
   "execution_count": 44,
   "id": "d9724526-6f3e-40f3-9296-b557650e7033",
   "metadata": {},
   "outputs": [
    {
     "name": "stdout",
     "output_type": "stream",
     "text": [
      "[14 69 23 73 57  2 83 81 11 74]\n",
      "[31 81 30 39 78 85 69  5 99 77]\n",
      "(array([69, 23, 73, 57, 83, 81, 11, 31, 81, 39, 85, 69,  5, 99, 77]), array([14,  2, 74, 30, 78]))\n"
     ]
    }
   ],
   "source": [
    "def separate(arr1, arr2):\n",
    "    combined = np.append(arr1, arr2)\n",
    "    odd_values = combined[combined % 2 != 0]\n",
    "    even_values = combined[combined % 2 == 0]\n",
    "    return odd_values, even_values\n",
    "\n",
    "arr1 = np.random.randint(0, 100, 10)\n",
    "arr2 = np.random.randint(0, 100, 10)\n",
    "\n",
    "print(arr1)\n",
    "print(arr2)\n",
    "print(separate(arr1, arr2))\n",
    "\n"
   ]
  },
  {
   "cell_type": "code",
   "execution_count": null,
   "id": "388bb53c-5ded-4b59-8873-b3e6ff839ae5",
   "metadata": {},
   "outputs": [],
   "source": []
  },
  {
   "cell_type": "code",
   "execution_count": null,
   "id": "52f91e82-ebfd-4bba-b3d0-940e20bb77c5",
   "metadata": {},
   "outputs": [],
   "source": []
  }
 ],
 "metadata": {
  "kernelspec": {
   "display_name": "Python 3 (ipykernel)",
   "language": "python",
   "name": "python3"
  },
  "language_info": {
   "codemirror_mode": {
    "name": "ipython",
    "version": 3
   },
   "file_extension": ".py",
   "mimetype": "text/x-python",
   "name": "python",
   "nbconvert_exporter": "python",
   "pygments_lexer": "ipython3",
   "version": "3.12.4"
  }
 },
 "nbformat": 4,
 "nbformat_minor": 5
}
