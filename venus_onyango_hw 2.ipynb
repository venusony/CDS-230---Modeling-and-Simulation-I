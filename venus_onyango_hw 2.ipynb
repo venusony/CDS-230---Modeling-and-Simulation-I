{
 "cells": [
  {
   "cell_type": "markdown",
   "metadata": {},
   "source": [
    "# Homework 2"
   ]
  },
  {
   "cell_type": "markdown",
   "metadata": {},
   "source": [
    "- Student name: Venus Onyango\n",
    "- Email: vonyango@gmu.edu\n",
    "- G-number: G01424357"
   ]
  },
  {
   "cell_type": "markdown",
   "metadata": {},
   "source": [
    "## Imported packages"
   ]
  },
  {
   "cell_type": "code",
   "execution_count": 1,
   "metadata": {},
   "outputs": [],
   "source": [
    "import cmath\n",
    "import math"
   ]
  },
  {
   "cell_type": "markdown",
   "metadata": {},
   "source": [
    "## Question 1.a"
   ]
  },
  {
   "cell_type": "markdown",
   "metadata": {},
   "source": [
    "Python is a programming language designed for machine learning scientists. \n",
    "False(not specifically designed for machine learning but widely used due to its libraries and simplicity)"
   ]
  },
  {
   "cell_type": "markdown",
   "metadata": {},
   "source": [
    "### Question 1.b"
   ]
  },
  {
   "cell_type": "markdown",
   "metadata": {},
   "source": [
    "In Python, all mathematical operators (e.g., +, -, ...) have different precedence.  False(Some operators share the same precedence levels)"
   ]
  },
  {
   "cell_type": "markdown",
   "metadata": {},
   "source": [
    "### Question 2"
   ]
  },
  {
   "cell_type": "code",
   "execution_count": 7,
   "metadata": {},
   "outputs": [],
   "source": [
    "# question a\n",
    "question_a= (9 +0.2) / (10+15)\n",
    "# question b\n",
    "question_b = 2.2 ** -1 - 0.5 ** 0.5\n",
    "# question c\n",
    "question_c =  cmath.sqrt(81) - (5 / abs(-3 * cmath.sqrt(1.1 ** 4) - 4.4))\n",
    "# question d\n",
    "expression_d = (2 / cmath.pi) * cmath.log(cmath.e)\n",
    "\n",
    "\n"
   ]
  },
  {
   "cell_type": "markdown",
   "metadata": {},
   "source": [
    "---"
   ]
  },
  {
   "cell_type": "markdown",
   "metadata": {},
   "source": [
    "## Question 3"
   ]
  },
  {
   "cell_type": "code",
   "execution_count": 13,
   "metadata": {},
   "outputs": [
    {
     "name": "stdout",
     "output_type": "stream",
     "text": [
      "Final position is  -7.525 meters\n"
     ]
    }
   ],
   "source": [
    "x_0 = -10  # initial position in meters\n",
    "v_per_s = 1.5  # velocity in feet per second\n",
    "t = 5.5  # time in secs\n",
    "\n",
    "# Convert velocity to meters per second (1 ft = 0.30 meters)\n",
    "v_m_per_s = v_per_s * 0.30\n",
    "\n",
    "# Linear motion equation: x_f = x_0 + v * t\n",
    "x_f = x_0 + v_m_per_s * t\n",
    "\n",
    "# Output\n",
    "x_f\n",
    "print(\"Final position is \",x_f, \"meters\" )\n"
   ]
  },
  {
   "cell_type": "markdown",
   "metadata": {},
   "source": [
    "## Question 4"
   ]
  },
  {
   "cell_type": "code",
   "execution_count": 14,
   "metadata": {},
   "outputs": [],
   "source": [
    "#question a\n",
    "question_a = (1 * math.cos(math.pi) + math.sin(math.radians(60))) / 0.5\n",
    "#question b\n",
    "question_b = (math.atan(math.radians(75)) / (math.cos(math.radians(60)) + math.asin(10 ** -9))) * 10 ** -1\n",
    "#question c\n",
    "question_c = (math.pi / (2 * math.log(4))) ** -2\n",
    "#question d\n",
    "question_d = math.exp(-math.sqrt(math.log(6) / math.log(3)))\n"
   ]
  },
  {
   "cell_type": "markdown",
   "metadata": {},
   "source": [
    "## Question 5"
   ]
  },
  {
   "cell_type": "code",
   "execution_count": 18,
   "metadata": {},
   "outputs": [
    {
     "name": "stdout",
     "output_type": "stream",
     "text": [
      "The object is at 75.42099999999999 meters above the ground after 1.9 seconds\n"
     ]
    }
   ],
   "source": [
    "# values\n",
    "y_0 = 93.11  # Initial height \n",
    "g = 9.8  # Gravity\n",
    "t = 1.9  # Time in seconds\n",
    "\n",
    "# Position of the object at t = 1.9 seconds\n",
    "y_t = y_0 - 0.5 * g * t ** 2\n",
    "\n",
    "# Check if the object reaches the ground\n",
    "if y_t <= 0:\n",
    "    print(f\"The object reaches the ground in {t} seconds.\")\n",
    "else:\n",
    "    print(\"The object is at\", y_t, \"meters above the ground after\", t,  \"seconds\" )\n"
   ]
  },
  {
   "cell_type": "code",
   "execution_count": 19,
   "metadata": {},
   "outputs": [
    {
     "name": "stdout",
     "output_type": "stream",
     "text": [
      "The object hits the ground after 4.359133034942445 seconds.\n"
     ]
    }
   ],
   "source": [
    "# Time when the object hits the ground\n",
    "t_hit_ground = math.sqrt(2 * y_0 / g)\n",
    "\n",
    "# Output\n",
    "print(\"The object hits the ground after\",t_hit_ground, \"seconds.\")\n"
   ]
  },
  {
   "cell_type": "code",
   "execution_count": null,
   "metadata": {},
   "outputs": [],
   "source": []
  },
  {
   "cell_type": "code",
   "execution_count": null,
   "metadata": {},
   "outputs": [],
   "source": []
  }
 ],
 "metadata": {
  "kernelspec": {
   "display_name": "Python 3 (ipykernel)",
   "language": "python",
   "name": "python3"
  },
  "language_info": {
   "codemirror_mode": {
    "name": "ipython",
    "version": 3
   },
   "file_extension": ".py",
   "mimetype": "text/x-python",
   "name": "python",
   "nbconvert_exporter": "python",
   "pygments_lexer": "ipython3",
   "version": "3.12.4"
  }
 },
 "nbformat": 4,
 "nbformat_minor": 4
}
